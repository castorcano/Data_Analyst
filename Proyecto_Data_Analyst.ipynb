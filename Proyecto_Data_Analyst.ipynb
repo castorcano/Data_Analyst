{
 "cells": [
  {
   "cell_type": "code",
   "execution_count": 18,
   "metadata": {},
   "outputs": [
    {
     "ename": "ImportError",
     "evalue": "No module named matplotlib.pyplot",
     "output_type": "error",
     "traceback": [
      "\u001b[0;31m---------------------------------------------------------------------------\u001b[0m",
      "\u001b[0;31mImportError\u001b[0m                               Traceback (most recent call last)",
      "\u001b[0;32m<ipython-input-18-8f38bfbe12e4>\u001b[0m in \u001b[0;36m<module>\u001b[0;34m()\u001b[0m\n\u001b[1;32m      1\u001b[0m \u001b[0;32mimport\u001b[0m \u001b[0mrequests\u001b[0m\u001b[0;34m\u001b[0m\u001b[0m\n\u001b[1;32m      2\u001b[0m \u001b[0;32mimport\u001b[0m \u001b[0mpandas\u001b[0m \u001b[0;32mas\u001b[0m \u001b[0mpd\u001b[0m\u001b[0;34m\u001b[0m\u001b[0m\n\u001b[0;32m----> 3\u001b[0;31m \u001b[0;32mimport\u001b[0m \u001b[0mmatplotlib\u001b[0m\u001b[0;34m.\u001b[0m\u001b[0mpyplot\u001b[0m \u001b[0;32mas\u001b[0m \u001b[0mplt\u001b[0m\u001b[0;34m\u001b[0m\u001b[0m\n\u001b[0m\u001b[1;32m      4\u001b[0m \u001b[0mget_ipython\u001b[0m\u001b[0;34m(\u001b[0m\u001b[0;34m)\u001b[0m\u001b[0;34m.\u001b[0m\u001b[0mmagic\u001b[0m\u001b[0;34m(\u001b[0m\u001b[0;34mu'matplotlib inline'\u001b[0m\u001b[0;34m)\u001b[0m\u001b[0;34m\u001b[0m\u001b[0m\n",
      "\u001b[0;31mImportError\u001b[0m: No module named matplotlib.pyplot"
     ]
    }
   ],
   "source": [
    "import requests\n",
    "import pandas as pd\n",
    "import matplotlib.pyplot as plt\n",
    "%matplotlib inline"
   ]
  },
  {
   "cell_type": "code",
   "execution_count": 19,
   "metadata": {},
   "outputs": [],
   "source": [
    "token = '79a96401-05b9-a1d9-7800-2d7f8d238cbf'"
   ]
  },
  {
   "cell_type": "code",
   "execution_count": 20,
   "metadata": {},
   "outputs": [],
   "source": [
    "# Grado promedio de escolaridad de la población de 15 y más años (1005000038)\n",
    "r = requests.get('http://www3.inegi.org.mx/sistemas/api/indicadores/v1/Indicador/1005000038/01/es/false/json/79a96401-05b9-a1d9-7800-2d7f8d238cbf')"
   ]
  },
  {
   "cell_type": "code",
   "execution_count": 21,
   "metadata": {
    "scrolled": true
   },
   "outputs": [
    {
     "name": "stdout",
     "output_type": "stream",
     "text": [
      "{u'Data': {u'Serie': [{u'CurrentValue': u'No disponible', u'DescriptionPeriod': u'1995', u'SourcesPeriod': u'INEGI Conteo de Poblaci\\xf3n y Vivienda 1995.', u'NotesPeriod': u'', u'TimePeriod': u'1995', u'ValueStatus': u'Definitiva'}, {u'CurrentValue': u'8', u'DescriptionPeriod': u'2000', u'SourcesPeriod': u'INEGI XII Censo General de Poblaci\\xf3n y Vivienda 2000.', u'NotesPeriod': u'', u'TimePeriod': u'2000', u'ValueStatus': u'Definitiva'}, {u'CurrentValue': u'8.7', u'DescriptionPeriod': u'2005', u'SourcesPeriod': u'INEGI II Conteo de Poblaci\\xf3n y Vivienda 2005.', u'NotesPeriod': u'', u'TimePeriod': u'2005', u'ValueStatus': u'Definitiva'}, {u'CurrentValue': u'9.23', u'DescriptionPeriod': u'2010', u'SourcesPeriod': u'INEGI Censo de Poblaci\\xf3n y Vivienda 2010.', u'NotesPeriod': u'', u'TimePeriod': u'2010', u'ValueStatus': u'Definitiva'}, {u'CurrentValue': u'9.72597472304436', u'DescriptionPeriod': u'2015 ', u'SourcesPeriod': u'', u'NotesPeriod': u'', u'TimePeriod': u'2015', u'ValueStatus': u'Definitiva'}], u'GeneralSource': None, u'GeneralNote': u''}, u'MetaData': {u'LastUpdate': u'', u'Indicator': 1005000038, u'Name': u'Grado promedio de escolaridad de la poblaci\\xf3n de 15 y m\\xe1s a\\xf1os', u'Region': u'Aguascalientes,Estatal ', u'NoOfDecimals': u'1', u'Freq': u'Quinquenal', u'CreationDate': u'13/03/2018 12:05:23 a.m.', u'Unit': u'A\\xf1os de escolaridad'}}\n"
     ]
    }
   ],
   "source": [
    "x = r.json()\n",
    "print(x)"
   ]
  },
  {
   "cell_type": "code",
   "execution_count": 30,
   "metadata": {},
   "outputs": [],
   "source": [
    "#print(x['Data']['Serie'])\n",
    "escolaridad = pd.DataFrame(x['Data']['Serie'])"
   ]
  },
  {
   "cell_type": "code",
   "execution_count": 31,
   "metadata": {
    "scrolled": true
   },
   "outputs": [
    {
     "data": {
      "text/html": [
       "<div>\n",
       "<style scoped>\n",
       "    .dataframe tbody tr th:only-of-type {\n",
       "        vertical-align: middle;\n",
       "    }\n",
       "\n",
       "    .dataframe tbody tr th {\n",
       "        vertical-align: top;\n",
       "    }\n",
       "\n",
       "    .dataframe thead th {\n",
       "        text-align: right;\n",
       "    }\n",
       "</style>\n",
       "<table border=\"1\" class=\"dataframe\">\n",
       "  <thead>\n",
       "    <tr style=\"text-align: right;\">\n",
       "      <th></th>\n",
       "      <th>CurrentValue</th>\n",
       "      <th>DescriptionPeriod</th>\n",
       "      <th>NotesPeriod</th>\n",
       "      <th>SourcesPeriod</th>\n",
       "      <th>TimePeriod</th>\n",
       "      <th>ValueStatus</th>\n",
       "    </tr>\n",
       "  </thead>\n",
       "  <tbody>\n",
       "    <tr>\n",
       "      <th>count</th>\n",
       "      <td>5</td>\n",
       "      <td>5</td>\n",
       "      <td>5</td>\n",
       "      <td>5</td>\n",
       "      <td>5</td>\n",
       "      <td>5</td>\n",
       "    </tr>\n",
       "    <tr>\n",
       "      <th>unique</th>\n",
       "      <td>5</td>\n",
       "      <td>5</td>\n",
       "      <td>1</td>\n",
       "      <td>5</td>\n",
       "      <td>5</td>\n",
       "      <td>1</td>\n",
       "    </tr>\n",
       "    <tr>\n",
       "      <th>top</th>\n",
       "      <td>8.7</td>\n",
       "      <td>2005</td>\n",
       "      <td></td>\n",
       "      <td>INEGI Censo de Población y Vivienda 2010.</td>\n",
       "      <td>2005</td>\n",
       "      <td>Definitiva</td>\n",
       "    </tr>\n",
       "    <tr>\n",
       "      <th>freq</th>\n",
       "      <td>1</td>\n",
       "      <td>1</td>\n",
       "      <td>5</td>\n",
       "      <td>1</td>\n",
       "      <td>1</td>\n",
       "      <td>5</td>\n",
       "    </tr>\n",
       "  </tbody>\n",
       "</table>\n",
       "</div>"
      ],
      "text/plain": [
       "       CurrentValue DescriptionPeriod NotesPeriod  \\\n",
       "count             5                 5           5   \n",
       "unique            5                 5           1   \n",
       "top             8.7              2005               \n",
       "freq              1                 1           5   \n",
       "\n",
       "                                    SourcesPeriod TimePeriod ValueStatus  \n",
       "count                                           5          5           5  \n",
       "unique                                          5          5           1  \n",
       "top     INEGI Censo de Población y Vivienda 2010.       2005  Definitiva  \n",
       "freq                                            1          1           5  "
      ]
     },
     "execution_count": 31,
     "metadata": {},
     "output_type": "execute_result"
    }
   ],
   "source": [
    "escolaridad.describe()"
   ]
  },
  {
   "cell_type": "code",
   "execution_count": 32,
   "metadata": {},
   "outputs": [
    {
     "data": {
      "text/html": [
       "<div>\n",
       "<style scoped>\n",
       "    .dataframe tbody tr th:only-of-type {\n",
       "        vertical-align: middle;\n",
       "    }\n",
       "\n",
       "    .dataframe tbody tr th {\n",
       "        vertical-align: top;\n",
       "    }\n",
       "\n",
       "    .dataframe thead th {\n",
       "        text-align: right;\n",
       "    }\n",
       "</style>\n",
       "<table border=\"1\" class=\"dataframe\">\n",
       "  <thead>\n",
       "    <tr style=\"text-align: right;\">\n",
       "      <th></th>\n",
       "      <th>CurrentValue</th>\n",
       "      <th>DescriptionPeriod</th>\n",
       "      <th>NotesPeriod</th>\n",
       "      <th>SourcesPeriod</th>\n",
       "      <th>TimePeriod</th>\n",
       "      <th>ValueStatus</th>\n",
       "    </tr>\n",
       "  </thead>\n",
       "  <tbody>\n",
       "    <tr>\n",
       "      <th>0</th>\n",
       "      <td>No disponible</td>\n",
       "      <td>1995</td>\n",
       "      <td></td>\n",
       "      <td>INEGI Conteo de Población y Vivienda 1995.</td>\n",
       "      <td>1995</td>\n",
       "      <td>Definitiva</td>\n",
       "    </tr>\n",
       "    <tr>\n",
       "      <th>1</th>\n",
       "      <td>8</td>\n",
       "      <td>2000</td>\n",
       "      <td></td>\n",
       "      <td>INEGI XII Censo General de Población y Viviend...</td>\n",
       "      <td>2000</td>\n",
       "      <td>Definitiva</td>\n",
       "    </tr>\n",
       "    <tr>\n",
       "      <th>2</th>\n",
       "      <td>8.7</td>\n",
       "      <td>2005</td>\n",
       "      <td></td>\n",
       "      <td>INEGI II Conteo de Población y Vivienda 2005.</td>\n",
       "      <td>2005</td>\n",
       "      <td>Definitiva</td>\n",
       "    </tr>\n",
       "    <tr>\n",
       "      <th>3</th>\n",
       "      <td>9.23</td>\n",
       "      <td>2010</td>\n",
       "      <td></td>\n",
       "      <td>INEGI Censo de Población y Vivienda 2010.</td>\n",
       "      <td>2010</td>\n",
       "      <td>Definitiva</td>\n",
       "    </tr>\n",
       "    <tr>\n",
       "      <th>4</th>\n",
       "      <td>9.72597472304436</td>\n",
       "      <td>2015</td>\n",
       "      <td></td>\n",
       "      <td></td>\n",
       "      <td>2015</td>\n",
       "      <td>Definitiva</td>\n",
       "    </tr>\n",
       "  </tbody>\n",
       "</table>\n",
       "</div>"
      ],
      "text/plain": [
       "       CurrentValue DescriptionPeriod NotesPeriod  \\\n",
       "0     No disponible              1995               \n",
       "1                 8              2000               \n",
       "2               8.7              2005               \n",
       "3              9.23              2010               \n",
       "4  9.72597472304436             2015                \n",
       "\n",
       "                                       SourcesPeriod TimePeriod ValueStatus  \n",
       "0         INEGI Conteo de Población y Vivienda 1995.       1995  Definitiva  \n",
       "1  INEGI XII Censo General de Población y Viviend...       2000  Definitiva  \n",
       "2      INEGI II Conteo de Población y Vivienda 2005.       2005  Definitiva  \n",
       "3          INEGI Censo de Población y Vivienda 2010.       2010  Definitiva  \n",
       "4                                                          2015  Definitiva  "
      ]
     },
     "execution_count": 32,
     "metadata": {},
     "output_type": "execute_result"
    }
   ],
   "source": [
    "escolaridad"
   ]
  },
  {
   "cell_type": "code",
   "execution_count": 25,
   "metadata": {},
   "outputs": [],
   "source": [
    "#Cantidad de tomas de agua en operación para abastecimiento público (6200093528)\n",
    "p = requests.get('http://www3.inegi.org.mx/sistemas/api/indicadores/v1/Indicador/6200093528/00000/es/false/json/79a96401-05b9-a1d9-7800-2d7f8d238cbf')"
   ]
  },
  {
   "cell_type": "code",
   "execution_count": 26,
   "metadata": {
    "scrolled": true
   },
   "outputs": [
    {
     "name": "stdout",
     "output_type": "stream",
     "text": [
      "{u'Data': {u'Serie': [{u'CurrentValue': u'15529', u'DescriptionPeriod': u'2010', u'SourcesPeriod': u'INEGI Censo Nacional de Gobiernos Municipales y Delegacionales 2011.INEGI Censo Nacional de Gobiernos Municipales y Delegacionales 2011.INEGI Censo Nacional de Gobiernos Municipales y Delegacionales 2011.INEGI Censo Nacional de Gobiernos Municipales y Delegacionales 2011.INEGI Censo Nacional de Gobiernos Municipales y Delegacionales 2011.INEGI Censo Nacional de Gobiernos Municipales y Delegacionales 2011.INEGI Censo Nacional de Gobiernos Municipales y Delegacionales 2011.INEGI Censo Nacional de Gobiernos Municipales y Delegacionales 2011.INEGI Censo Nacional de Gobiernos Municipales y Delegacionales 2011.INEGI Censo Nacional de Gobiernos Municipales y Delegacionales 2011.INEGI Censo Nacional de Gobiernos Municipales y Delegacionales 2011.INEGI Censo Nacional de Gobiernos Municipales y Delegacionales 2011.INEGI Censo Nacional de Gobiernos Municipales y Delegacionales 2011.INEGI Censo Nacional de Gobiernos Municipales y Delegacionales 2011.INEGI Censo Nacional de Gobiernos Municipales y Delegacionales 2011.INEGI Censo Nacional de Gobiernos Municipales y Delegacionales 2011.INEGI Censo Nacional de Gobiernos Municipales y Delegacionales 2011.INEGI Censo Nacional de Gobiernos Municipales y Delegacionales 2011.INEGI Censo Nacional de Gobiernos Municipales y Delegacionales 2011.INEGI Censo Nacional de Gobiernos Municipales y Delegacionales 2011.INEGI Censo Nacional de Gobiernos Municipales y Delegacionales 2011.INEGI Censo Nacional de Gobiernos Municipales y Delegacionales 2011.INEGI Censo Nacional de Gobiernos Municipales y Delegacionales 2011.INEGI Censo Nacional de Gobiernos Municipales y Delegacionales 2011.INEGI Censo Nacional de Gobiernos Municipales y Delegacionales 2011.INEGI Censo Nacional de Gobiernos Municipales y Delegacionales 2011.INEGI Censo Nacional de Gobiernos Municipales y Delegacionales 2011.INEGI Censo Nacional de Gobiernos Municipales y Delegacionales 2011.INEGI Censo Nacional de Gobiernos Municipales y Delegacionales 2011.INEGI Censo Nacional de Gobiernos Municipales y Delegacionales 2011.INEGI Censo Nacional de Gobiernos Municipales y Delegacionales 2011.INEGI Censo Nacional de Gobiernos Municipales y Delegacionales 2011.INEGI Censo Nacional de Gobiernos Municipales y Delegacionales 2011.', u'NotesPeriod': u'', u'TimePeriod': u'2010', u'ValueStatus': u'Definitiva'}, {u'CurrentValue': u'18627', u'DescriptionPeriod': u'2012', u'SourcesPeriod': u'INEGI Censo Nacional de Gobiernos Municipales y Delegacionales 2013.INEGI Censo Nacional de Gobiernos Municipales y Delegacionales 2013.INEGI Censo Nacional de Gobiernos Municipales y Delegacionales 2013.INEGI Censo Nacional de Gobiernos Municipales y Delegacionales 2013.INEGI Censo Nacional de Gobiernos Municipales y Delegacionales 2013.INEGI Censo Nacional de Gobiernos Municipales y Delegacionales 2013.INEGI Censo Nacional de Gobiernos Municipales y Delegacionales 2013.INEGI Censo Nacional de Gobiernos Municipales y Delegacionales 2013.INEGI Censo Nacional de Gobiernos Municipales y Delegacionales 2013.INEGI Censo Nacional de Gobiernos Municipales y Delegacionales 2013.INEGI Censo Nacional de Gobiernos Municipales y Delegacionales 2013.INEGI Censo Nacional de Gobiernos Municipales y Delegacionales 2013.INEGI Censo Nacional de Gobiernos Municipales y Delegacionales 2013.INEGI Censo Nacional de Gobiernos Municipales y Delegacionales 2013.INEGI Censo Nacional de Gobiernos Municipales y Delegacionales 2013.INEGI Censo Nacional de Gobiernos Municipales y Delegacionales 2013.INEGI Censo Nacional de Gobiernos Municipales y Delegacionales 2013.INEGI Censo Nacional de Gobiernos Municipales y Delegacionales 2013.INEGI Censo Nacional de Gobiernos Municipales y Delegacionales 2013.INEGI Censo Nacional de Gobiernos Municipales y Delegacionales 2013.INEGI Censo Nacional de Gobiernos Municipales y Delegacionales 2013.INEGI Censo Nacional de Gobiernos Municipales y Delegacionales 2013.INEGI Censo Nacional de Gobiernos Municipales y Delegacionales 2013.INEGI Censo Nacional de Gobiernos Municipales y Delegacionales 2013.INEGI Censo Nacional de Gobiernos Municipales y Delegacionales 2013.INEGI Censo Nacional de Gobiernos Municipales y Delegacionales 2013.INEGI Censo Nacional de Gobiernos Municipales y Delegacionales 2013.INEGI Censo Nacional de Gobiernos Municipales y Delegacionales 2013.INEGI Censo Nacional de Gobiernos Municipales y Delegacionales 2013.INEGI Censo Nacional de Gobiernos Municipales y Delegacionales 2013.INEGI Censo Nacional de Gobiernos Municipales y Delegacionales 2013.INEGI Censo Nacional de Gobiernos Municipales y Delegacionales 2013.INEGI Censo Nacional de Gobiernos Municipales y Delegacionales 2013.', u'NotesPeriod': u'', u'TimePeriod': u'2012', u'ValueStatus': u'Definitiva'}, {u'CurrentValue': u'21227', u'DescriptionPeriod': u'2014', u'SourcesPeriod': u'INEGI Censo Nacional de Gobiernos Municipales y Delegacionales 2015. Modulo ambiental de agua potable y saneamiento.INEGI Censo Nacional de Gobiernos Municipales y Delegacionales 2015. Modulo ambiental de agua potable y saneamiento.INEGI Censo Nacional de Gobiernos Municipales y Delegacionales 2015. Modulo ambiental de agua potable y saneamiento.INEGI Censo Nacional de Gobiernos Municipales y Delegacionales 2015. Modulo ambiental de agua potable y saneamiento.INEGI Censo Nacional de Gobiernos Municipales y Delegacionales 2015. Modulo ambiental de agua potable y saneamiento.INEGI Censo Nacional de Gobiernos Municipales y Delegacionales 2015. Modulo ambiental de agua potable y saneamiento.INEGI Censo Nacional de Gobiernos Municipales y Delegacionales 2015. Modulo ambiental de agua potable y saneamiento.INEGI Censo Nacional de Gobiernos Municipales y Delegacionales 2015. Modulo ambiental de agua potable y saneamiento.INEGI Censo Nacional de Gobiernos Municipales y Delegacionales 2015. Modulo ambiental de agua potable y saneamiento.INEGI Censo Nacional de Gobiernos Municipales y Delegacionales 2015. Modulo ambiental de agua potable y saneamiento.INEGI Censo Nacional de Gobiernos Municipales y Delegacionales 2015. Modulo ambiental de agua potable y saneamiento.INEGI Censo Nacional de Gobiernos Municipales y Delegacionales 2015. Modulo ambiental de agua potable y saneamiento.INEGI Censo Nacional de Gobiernos Municipales y Delegacionales 2015. Modulo ambiental de agua potable y saneamiento.INEGI Censo Nacional de Gobiernos Municipales y Delegacionales 2015. Modulo ambiental de agua potable y saneamiento.INEGI Censo Nacional de Gobiernos Municipales y Delegacionales 2015. Modulo ambiental de agua potable y saneamiento.INEGI Censo Nacional de Gobiernos Municipales y Delegacionales 2015. Modulo ambiental de agua potable y saneamiento.INEGI Censo Nacional de Gobiernos Municipales y Delegacionales 2015. Modulo ambiental de agua potable y saneamiento.INEGI Censo Nacional de Gobiernos Municipales y Delegacionales 2015. Modulo ambiental de agua potable y saneamiento.INEGI Censo Nacional de Gobiernos Municipales y Delegacionales 2015. Modulo ambiental de agua potable y saneamiento.INEGI Censo Nacional de Gobiernos Municipales y Delegacionales 2015. Modulo ambiental de agua potable y saneamiento.INEGI Censo Nacional de Gobiernos Municipales y Delegacionales 2015. Modulo ambiental de agua potable y saneamiento.INEGI Censo Nacional de Gobiernos Municipales y Delegacionales 2015. Modulo ambiental de agua potable y saneamiento.INEGI Censo Nacional de Gobiernos Municipales y Delegacionales 2015. Modulo ambiental de agua potable y saneamiento.INEGI Censo Nacional de Gobiernos Municipales y Delegacionales 2015. Modulo ambiental de agua potable y saneamiento.INEGI Censo Nacional de Gobiernos Municipales y Delegacionales 2015. Modulo ambiental de agua potable y saneamiento.INEGI Censo Nacional de Gobiernos Municipales y Delegacionales 2015. Modulo ambiental de agua potable y saneamiento.INEGI Censo Nacional de Gobiernos Municipales y Delegacionales 2015. Modulo ambiental de agua potable y saneamiento.INEGI Censo Nacional de Gobiernos Municipales y Delegacionales 2015. Modulo ambiental de agua potable y saneamiento.INEGI Censo Nacional de Gobiernos Municipales y Delegacionales 2015. Modulo ambiental de agua potable y saneamiento.INEGI Censo Nacional de Gobiernos Municipales y Delegacionales 2015. Modulo ambiental de agua potable y saneamiento.INEGI Censo Nacional de Gobiernos Municipales y Delegacionales 2015. Modulo ambiental de agua potable y saneamiento.INEGI Censo Nacional de Gobiernos Municipales y Delegacionales 2015. Modulo ambiental de agua potable y saneamiento.INEGI Censo Nacional de Gobiernos Municipales y Delegacionales 2015. Modulo ambiental de agua potable y saneamiento.', u'NotesPeriod': u'', u'TimePeriod': u'2014', u'ValueStatus': u'Definitiva'}], u'GeneralSource': None, u'GeneralNote': u''}, u'MetaData': {u'LastUpdate': u'', u'Indicator': 6200093528L, u'Name': u'Cantidad de tomas de agua en operaci\\xf3n para abastecimiento p\\xfablico', u'Region': u'Estados Unidos Mexicanos', u'NoOfDecimals': u'0', u'Freq': u'Bienal', u'CreationDate': u'13/03/2018 12:05:50 a.m.', u'Unit': u'N\\xfamero'}}\n"
     ]
    }
   ],
   "source": [
    "y = p.json()\n",
    "print(y)\n",
    "tomas_agua = pd.DataFrame(y['Data']['Serie'])"
   ]
  },
  {
   "cell_type": "code",
   "execution_count": 27,
   "metadata": {},
   "outputs": [
    {
     "data": {
      "text/html": [
       "<div>\n",
       "<style scoped>\n",
       "    .dataframe tbody tr th:only-of-type {\n",
       "        vertical-align: middle;\n",
       "    }\n",
       "\n",
       "    .dataframe tbody tr th {\n",
       "        vertical-align: top;\n",
       "    }\n",
       "\n",
       "    .dataframe thead th {\n",
       "        text-align: right;\n",
       "    }\n",
       "</style>\n",
       "<table border=\"1\" class=\"dataframe\">\n",
       "  <thead>\n",
       "    <tr style=\"text-align: right;\">\n",
       "      <th></th>\n",
       "      <th>CurrentValue</th>\n",
       "      <th>DescriptionPeriod</th>\n",
       "      <th>NotesPeriod</th>\n",
       "      <th>SourcesPeriod</th>\n",
       "      <th>TimePeriod</th>\n",
       "      <th>ValueStatus</th>\n",
       "    </tr>\n",
       "  </thead>\n",
       "  <tbody>\n",
       "    <tr>\n",
       "      <th>count</th>\n",
       "      <td>3</td>\n",
       "      <td>3</td>\n",
       "      <td>3</td>\n",
       "      <td>3</td>\n",
       "      <td>3</td>\n",
       "      <td>3</td>\n",
       "    </tr>\n",
       "    <tr>\n",
       "      <th>unique</th>\n",
       "      <td>3</td>\n",
       "      <td>3</td>\n",
       "      <td>1</td>\n",
       "      <td>3</td>\n",
       "      <td>3</td>\n",
       "      <td>1</td>\n",
       "    </tr>\n",
       "    <tr>\n",
       "      <th>top</th>\n",
       "      <td>18627</td>\n",
       "      <td>2012</td>\n",
       "      <td></td>\n",
       "      <td>INEGI Censo Nacional de Gobiernos Municipales ...</td>\n",
       "      <td>2012</td>\n",
       "      <td>Definitiva</td>\n",
       "    </tr>\n",
       "    <tr>\n",
       "      <th>freq</th>\n",
       "      <td>1</td>\n",
       "      <td>1</td>\n",
       "      <td>3</td>\n",
       "      <td>1</td>\n",
       "      <td>1</td>\n",
       "      <td>3</td>\n",
       "    </tr>\n",
       "  </tbody>\n",
       "</table>\n",
       "</div>"
      ],
      "text/plain": [
       "       CurrentValue DescriptionPeriod NotesPeriod  \\\n",
       "count             3                 3           3   \n",
       "unique            3                 3           1   \n",
       "top           18627              2012               \n",
       "freq              1                 1           3   \n",
       "\n",
       "                                            SourcesPeriod TimePeriod  \\\n",
       "count                                                   3          3   \n",
       "unique                                                  3          3   \n",
       "top     INEGI Censo Nacional de Gobiernos Municipales ...       2012   \n",
       "freq                                                    1          1   \n",
       "\n",
       "       ValueStatus  \n",
       "count            3  \n",
       "unique           1  \n",
       "top     Definitiva  \n",
       "freq             3  "
      ]
     },
     "execution_count": 27,
     "metadata": {},
     "output_type": "execute_result"
    }
   ],
   "source": [
    "tomas_agua.describe()"
   ]
  },
  {
   "cell_type": "code",
   "execution_count": 28,
   "metadata": {},
   "outputs": [
    {
     "data": {
      "text/html": [
       "<div>\n",
       "<style scoped>\n",
       "    .dataframe tbody tr th:only-of-type {\n",
       "        vertical-align: middle;\n",
       "    }\n",
       "\n",
       "    .dataframe tbody tr th {\n",
       "        vertical-align: top;\n",
       "    }\n",
       "\n",
       "    .dataframe thead th {\n",
       "        text-align: right;\n",
       "    }\n",
       "</style>\n",
       "<table border=\"1\" class=\"dataframe\">\n",
       "  <thead>\n",
       "    <tr style=\"text-align: right;\">\n",
       "      <th></th>\n",
       "      <th>CurrentValue</th>\n",
       "      <th>DescriptionPeriod</th>\n",
       "      <th>NotesPeriod</th>\n",
       "      <th>SourcesPeriod</th>\n",
       "      <th>TimePeriod</th>\n",
       "      <th>ValueStatus</th>\n",
       "    </tr>\n",
       "  </thead>\n",
       "  <tbody>\n",
       "    <tr>\n",
       "      <th>0</th>\n",
       "      <td>15529</td>\n",
       "      <td>2010</td>\n",
       "      <td></td>\n",
       "      <td>INEGI Censo Nacional de Gobiernos Municipales ...</td>\n",
       "      <td>2010</td>\n",
       "      <td>Definitiva</td>\n",
       "    </tr>\n",
       "    <tr>\n",
       "      <th>1</th>\n",
       "      <td>18627</td>\n",
       "      <td>2012</td>\n",
       "      <td></td>\n",
       "      <td>INEGI Censo Nacional de Gobiernos Municipales ...</td>\n",
       "      <td>2012</td>\n",
       "      <td>Definitiva</td>\n",
       "    </tr>\n",
       "    <tr>\n",
       "      <th>2</th>\n",
       "      <td>21227</td>\n",
       "      <td>2014</td>\n",
       "      <td></td>\n",
       "      <td>INEGI Censo Nacional de Gobiernos Municipales ...</td>\n",
       "      <td>2014</td>\n",
       "      <td>Definitiva</td>\n",
       "    </tr>\n",
       "  </tbody>\n",
       "</table>\n",
       "</div>"
      ],
      "text/plain": [
       "  CurrentValue DescriptionPeriod NotesPeriod  \\\n",
       "0        15529              2010               \n",
       "1        18627              2012               \n",
       "2        21227              2014               \n",
       "\n",
       "                                       SourcesPeriod TimePeriod ValueStatus  \n",
       "0  INEGI Censo Nacional de Gobiernos Municipales ...       2010  Definitiva  \n",
       "1  INEGI Censo Nacional de Gobiernos Municipales ...       2012  Definitiva  \n",
       "2  INEGI Censo Nacional de Gobiernos Municipales ...       2014  Definitiva  "
      ]
     },
     "execution_count": 28,
     "metadata": {},
     "output_type": "execute_result"
    }
   ],
   "source": [
    "tomas_agua"
   ]
  },
  {
   "cell_type": "code",
   "execution_count": 29,
   "metadata": {
    "scrolled": true
   },
   "outputs": [
    {
     "data": {
      "text/plain": [
       "CurrentValue         object\n",
       "DescriptionPeriod    object\n",
       "NotesPeriod          object\n",
       "SourcesPeriod        object\n",
       "TimePeriod           object\n",
       "ValueStatus          object\n",
       "dtype: object"
      ]
     },
     "execution_count": 29,
     "metadata": {},
     "output_type": "execute_result"
    }
   ],
   "source": [
    "tomas_agua.dtypes"
   ]
  },
  {
   "cell_type": "code",
   "execution_count": 33,
   "metadata": {},
   "outputs": [
    {
     "data": {
      "text/plain": [
       "CurrentValue         object\n",
       "DescriptionPeriod    object\n",
       "NotesPeriod          object\n",
       "SourcesPeriod        object\n",
       "TimePeriod           object\n",
       "ValueStatus          object\n",
       "dtype: object"
      ]
     },
     "execution_count": 33,
     "metadata": {},
     "output_type": "execute_result"
    }
   ],
   "source": [
    "escolaridad.dtypes"
   ]
  },
  {
   "cell_type": "code",
   "execution_count": 34,
   "metadata": {},
   "outputs": [],
   "source": [
    "tomas_agua.CurrentValue= tomas_agua.CurrentValue.astype('float64')\n",
    "tomas_agua.DescriptionPeriod = pd.to_datetime(tomas_agua.DescriptionPeriod)"
   ]
  },
  {
   "cell_type": "code",
   "execution_count": 39,
   "metadata": {},
   "outputs": [
    {
     "ename": "NameError",
     "evalue": "name 'plt' is not defined",
     "output_type": "error",
     "traceback": [
      "\u001b[0;31m---------------------------------------------------------------------------\u001b[0m",
      "\u001b[0;31mNameError\u001b[0m                                 Traceback (most recent call last)",
      "\u001b[0;32m<ipython-input-39-9924c6643836>\u001b[0m in \u001b[0;36m<module>\u001b[0;34m()\u001b[0m\n\u001b[0;32m----> 1\u001b[0;31m \u001b[0mplt\u001b[0m\u001b[0;34m.\u001b[0m\u001b[0mplot\u001b[0m\u001b[0;34m(\u001b[0m\u001b[0mtomas_agua\u001b[0m\u001b[0;34m.\u001b[0m\u001b[0mDescriptionPeriod\u001b[0m\u001b[0;34m,\u001b[0m \u001b[0mtomas_agua\u001b[0m\u001b[0;34m.\u001b[0m\u001b[0mCurrentValue\u001b[0m\u001b[0;34m)\u001b[0m\u001b[0;34m\u001b[0m\u001b[0m\n\u001b[0m",
      "\u001b[0;31mNameError\u001b[0m: name 'plt' is not defined"
     ]
    }
   ],
   "source": [
    "plt.plot(tomas_agua.DescriptionPeriod, tomas_agua.CurrentValue)"
   ]
  },
  {
   "cell_type": "code",
   "execution_count": 35,
   "metadata": {},
   "outputs": [],
   "source": [
    "escolaridad.CurrentValue= tomas_agua.CurrentValue.astype('float64')\n",
    "escolaridad.DescriptionPeriod = pd.to_datetime(escolaridad.DescriptionPeriod)"
   ]
  },
  {
   "cell_type": "code",
   "execution_count": 38,
   "metadata": {},
   "outputs": [
    {
     "ename": "NameError",
     "evalue": "name 'plt' is not defined",
     "output_type": "error",
     "traceback": [
      "\u001b[0;31m---------------------------------------------------------------------------\u001b[0m",
      "\u001b[0;31mNameError\u001b[0m                                 Traceback (most recent call last)",
      "\u001b[0;32m<ipython-input-38-c2b67b6289d3>\u001b[0m in \u001b[0;36m<module>\u001b[0;34m()\u001b[0m\n\u001b[0;32m----> 1\u001b[0;31m \u001b[0mplt\u001b[0m\u001b[0;34m.\u001b[0m\u001b[0mplot\u001b[0m\u001b[0;34m(\u001b[0m\u001b[0mescolaridad\u001b[0m\u001b[0;34m.\u001b[0m\u001b[0mDescriptionPeriod\u001b[0m\u001b[0;34m,\u001b[0m \u001b[0mescolaridad\u001b[0m\u001b[0;34m.\u001b[0m\u001b[0mCurrentValue\u001b[0m\u001b[0;34m)\u001b[0m\u001b[0;34m\u001b[0m\u001b[0m\n\u001b[0m",
      "\u001b[0;31mNameError\u001b[0m: name 'plt' is not defined"
     ]
    }
   ],
   "source": [
    "plt.plot(escolaridad.DescriptionPeriod, escolaridad.CurrentValue)"
   ]
  },
  {
   "cell_type": "code",
   "execution_count": 40,
   "metadata": {},
   "outputs": [],
   "source": [
    "import mysql.connector\n",
    "from mysql.connector import Error"
   ]
  },
  {
   "cell_type": "code",
   "execution_count": 41,
   "metadata": {},
   "outputs": [],
   "source": [
    "def connect():\n",
    "    \"\"\" Connect to MySQL database \"\"\"\n",
    "    try:\n",
    "        conn = mysql.connector.connect(host='localhost',\n",
    "                                       database='DB_PRODUCTOS',\n",
    "                                       user='root',\n",
    "                                       password='*******')\n",
    "        if conn.is_connected():\n",
    "            print('Connected to MySQL database')\n",
    " \n",
    "    except Error as e:\n",
    "        print(e)\n",
    " \n",
    "    finally:\n",
    "        conn.close()"
   ]
  },
  {
   "cell_type": "code",
   "execution_count": 42,
   "metadata": {},
   "outputs": [
    {
     "name": "stdout",
     "output_type": "stream",
     "text": [
      "loaded dataframe from MySQL. records: 3\n"
     ]
    }
   ],
   "source": [
    "mysql_cn= mysql.connector.connect(host='localhost', \n",
    "                port=3306,user='root', passwd='greenshark', \n",
    "                db='productos1')\n",
    "df_mysql = pd.read_sql('select * from productos;', con=mysql_cn) \n",
    "df_mysql.head()\n",
    "print 'loaded dataframe from MySQL. records:', len(df_mysql)"
   ]
  },
  {
   "cell_type": "code",
   "execution_count": 43,
   "metadata": {},
   "outputs": [
    {
     "data": {
      "text/html": [
       "<div>\n",
       "<style scoped>\n",
       "    .dataframe tbody tr th:only-of-type {\n",
       "        vertical-align: middle;\n",
       "    }\n",
       "\n",
       "    .dataframe tbody tr th {\n",
       "        vertical-align: top;\n",
       "    }\n",
       "\n",
       "    .dataframe thead th {\n",
       "        text-align: right;\n",
       "    }\n",
       "</style>\n",
       "<table border=\"1\" class=\"dataframe\">\n",
       "  <thead>\n",
       "    <tr style=\"text-align: right;\">\n",
       "      <th></th>\n",
       "      <th>codigo</th>\n",
       "      <th>nombre</th>\n",
       "      <th>precio</th>\n",
       "      <th>fechaalta</th>\n",
       "      <th>categoria</th>\n",
       "    </tr>\n",
       "  </thead>\n",
       "  <tbody>\n",
       "    <tr>\n",
       "      <th>0</th>\n",
       "      <td>a01</td>\n",
       "      <td>Afilador</td>\n",
       "      <td>2.5</td>\n",
       "      <td>2007-11-02</td>\n",
       "      <td>utensilio</td>\n",
       "    </tr>\n",
       "    <tr>\n",
       "      <th>1</th>\n",
       "      <td>s01</td>\n",
       "      <td>Silla mod. ZAZ</td>\n",
       "      <td>20.0</td>\n",
       "      <td>2007-11-03</td>\n",
       "      <td>silla</td>\n",
       "    </tr>\n",
       "    <tr>\n",
       "      <th>2</th>\n",
       "      <td>s02</td>\n",
       "      <td>Silla mod. XAX</td>\n",
       "      <td>25.0</td>\n",
       "      <td>2007-11-03</td>\n",
       "      <td>silla</td>\n",
       "    </tr>\n",
       "  </tbody>\n",
       "</table>\n",
       "</div>"
      ],
      "text/plain": [
       "  codigo          nombre  precio   fechaalta  categoria\n",
       "0    a01        Afilador     2.5  2007-11-02  utensilio\n",
       "1    s01  Silla mod. ZAZ    20.0  2007-11-03      silla\n",
       "2    s02  Silla mod. XAX    25.0  2007-11-03      silla"
      ]
     },
     "execution_count": 43,
     "metadata": {},
     "output_type": "execute_result"
    }
   ],
   "source": [
    "df_mysql.head()"
   ]
  },
  {
   "cell_type": "markdown",
   "metadata": {},
   "source": [
    "Git Third commit"
   ]
  }
 ],
 "metadata": {
  "anaconda-cloud": {},
  "kernelspec": {
   "display_name": "Python 2",
   "language": "python",
   "name": "python2"
  },
  "language_info": {
   "codemirror_mode": {
    "name": "ipython",
    "version": 2
   },
   "file_extension": ".py",
   "mimetype": "text/x-python",
   "name": "python",
   "nbconvert_exporter": "python",
   "pygments_lexer": "ipython2",
   "version": "2.7.12"
  }
 },
 "nbformat": 4,
 "nbformat_minor": 1
}
